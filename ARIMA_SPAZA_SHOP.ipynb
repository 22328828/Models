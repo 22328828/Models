{
 "cells": [
  {
   "cell_type": "code",
   "execution_count": 4,
   "id": "9c37d8b4-fccb-4dcc-b8cd-d0fd040074d5",
   "metadata": {},
   "outputs": [],
   "source": [
    "import pandas as pd\n",
    "from scipy.stats import boxcox\n",
    "from scipy.special import inv_boxcox\n",
    "from pmdarima import auto_arima  # Alternative to ARIMA model for automatic order selection\n",
    "import matplotlib.pyplot as plt\n",
    "\n"
   ]
  },
  {
   "cell_type": "code",
   "execution_count": 5,
   "id": "893fee74-20e8-4bcb-bc04-5469eac9e270",
   "metadata": {},
   "outputs": [],
   "source": [
    "# Load dataset\n",
    "df = pd.read_excel(\"C:/Users/TEMP.NDOCY.000/Desktop/spaza_shop_sales_data_7_shops.xlsx\")\n",
    "df.columns = df.columns.str.replace(' ', '_').str.lower()  # Standardize column names\n",
    "df['date'] = pd.to_datetime(df['date'], format=\"%Y/%m/%d %H:%M:%S\")  # Adjust format if necessary\n",
    "df.set_index('date', inplace=True)\n",
    "\n"
   ]
  },
  {
   "cell_type": "code",
   "execution_count": 6,
   "id": "ef5027f5-36b9-426f-adf0-00f452da9cfb",
   "metadata": {},
   "outputs": [],
   "source": [
    "# Remove outliers\n",
    "def remove_outliers(data, column):\n",
    "    Q1 = data[column].quantile(0.25)\n",
    "    Q3 = data[column].quantile(0.75)\n",
    "    IQR = Q3 - Q1\n",
    "    lower_bound = Q1 - 1.5 * IQR\n",
    "    upper_bound = Q3 + 1.5 * IQR\n",
    "    return data[(data[column] >= lower_bound) & (data[column] <= upper_bound)]\n",
    "\n",
    "df = remove_outliers(df, 'sales_units')\n",
    "\n"
   ]
  },
  {
   "cell_type": "code",
   "execution_count": 7,
   "id": "c0f67311-4e47-4b67-ba8b-e99deb977dae",
   "metadata": {},
   "outputs": [],
   "source": [
    "# Apply Box-Cox transformation\n",
    "df['sales_units_boxcox'], lam = boxcox(df['sales_units'] + 1)  # Add 1 to handle zero values\n",
    "\n"
   ]
  },
  {
   "cell_type": "code",
   "execution_count": 15,
   "id": "027d49ef-d322-4ee6-876c-b845fd742c97",
   "metadata": {},
   "outputs": [
    {
     "name": "stdout",
     "output_type": "stream",
     "text": [
      "ADF Statistic: -43.59363548455245\n",
      "p-value: 0.0\n"
     ]
    }
   ],
   "source": [
    "# Check for stationarity\n",
    "from statsmodels.tsa.stattools import adfuller\n",
    "result = adfuller(df['sales_units_boxcox'].dropna())\n",
    "print(f'ADF Statistic: {result[0]}')\n",
    "print(f'p-value: {result[1]}')\n",
    "df = df.reset_index()\n",
    "# Optionally, you can set the date column back as the index\n",
    "df = df.set_index('date')\n",
    "# Apply Box-Cox transformation again\n",
    "df['sales_units_boxcox'], lam = boxcox(df['sales_units'] + 1)  # Add 1 to handle zero values\n",
    "\n",
    "# Difference the data\n",
    "df['sales_units_boxcox_diff'] = df['sales_units_boxcox'].diff().dropna()\n",
    "\n"
   ]
  },
  {
   "cell_type": "code",
   "execution_count": 16,
   "id": "e883acbd-7095-4630-95d0-9771fd020feb",
   "metadata": {},
   "outputs": [
    {
     "name": "stdout",
     "output_type": "stream",
     "text": [
      "DatetimeIndex([], dtype='datetime64[ns]', name='date', freq=None)\n"
     ]
    }
   ],
   "source": [
    "print(df.index[df.index.duplicated()].unique())\n",
    "df = df[~df.index.duplicated(keep='first')]\n"
   ]
  },
  {
   "cell_type": "code",
   "execution_count": 17,
   "id": "b389c11f-ffb9-4ef8-900b-e49d9b2f04b5",
   "metadata": {},
   "outputs": [],
   "source": [
    "# Make the series stationary if necessary\n",
    "# Difference the data if it is not stationary\n",
    "df['sales_units_boxcox_diff'] = df['sales_units_boxcox'].diff().dropna()\n",
    "\n"
   ]
  },
  {
   "cell_type": "code",
   "execution_count": null,
   "id": "98a71bf6-a574-41df-ae42-15f19289b047",
   "metadata": {},
   "outputs": [],
   "source": []
  },
  {
   "cell_type": "code",
   "execution_count": 18,
   "id": "c3b3527f-9b32-46c7-a62c-6658738d740e",
   "metadata": {},
   "outputs": [
    {
     "name": "stdout",
     "output_type": "stream",
     "text": [
      "Performing stepwise search to minimize aic\n",
      " ARIMA(2,0,2)(0,0,0)[0]             : AIC=inf, Time=3.05 sec\n",
      " ARIMA(0,0,0)(0,0,0)[0]             : AIC=16857.100, Time=0.05 sec\n",
      " ARIMA(1,0,0)(0,0,0)[0]             : AIC=13520.245, Time=0.06 sec\n",
      " ARIMA(0,0,1)(0,0,0)[0]             : AIC=15513.221, Time=0.25 sec\n",
      " ARIMA(2,0,0)(0,0,0)[0]             : AIC=13023.366, Time=0.16 sec\n",
      " ARIMA(3,0,0)(0,0,0)[0]             : AIC=12788.423, Time=0.43 sec\n",
      " ARIMA(4,0,0)(0,0,0)[0]             : AIC=inf, Time=0.50 sec\n",
      " ARIMA(3,0,1)(0,0,0)[0]             : AIC=inf, Time=3.33 sec\n",
      " ARIMA(2,0,1)(0,0,0)[0]             : AIC=inf, Time=1.64 sec\n",
      " ARIMA(4,0,1)(0,0,0)[0]             : AIC=inf, Time=2.70 sec\n",
      " ARIMA(3,0,0)(0,0,0)[0] intercept   : AIC=12295.810, Time=0.62 sec\n",
      " ARIMA(2,0,0)(0,0,0)[0] intercept   : AIC=12295.547, Time=0.30 sec\n",
      " ARIMA(1,0,0)(0,0,0)[0] intercept   : AIC=12293.547, Time=0.18 sec\n",
      " ARIMA(0,0,0)(0,0,0)[0] intercept   : AIC=12292.346, Time=0.09 sec\n",
      " ARIMA(0,0,1)(0,0,0)[0] intercept   : AIC=12293.548, Time=0.41 sec\n",
      " ARIMA(1,0,1)(0,0,0)[0] intercept   : AIC=12295.550, Time=0.42 sec\n",
      "\n",
      "Best model:  ARIMA(0,0,0)(0,0,0)[0] intercept\n",
      "Total fit time: 14.237 seconds\n",
      "                               SARIMAX Results                                \n",
      "==============================================================================\n",
      "Dep. Variable:                      y   No. Observations:                 1826\n",
      "Model:                        SARIMAX   Log Likelihood               -6144.173\n",
      "Date:                Sun, 15 Sep 2024   AIC                          12292.346\n",
      "Time:                        22:49:58   BIC                          12303.366\n",
      "Sample:                    01-01-2019   HQIC                         12296.411\n",
      "                         - 12-31-2023                                         \n",
      "Covariance Type:                  opg                                         \n",
      "==============================================================================\n",
      "                 coef    std err          z      P>|z|      [0.025      0.975]\n",
      "------------------------------------------------------------------------------\n",
      "intercept     23.4199      0.165    141.635      0.000      23.096      23.744\n",
      "sigma2        48.9978      2.550     19.212      0.000      43.999      53.997\n",
      "===================================================================================\n",
      "Ljung-Box (L1) (Q):                   0.80   Jarque-Bera (JB):               109.91\n",
      "Prob(Q):                              0.37   Prob(JB):                         0.00\n",
      "Heteroskedasticity (H):               1.05   Skew:                            -0.12\n",
      "Prob(H) (two-sided):                  0.54   Kurtosis:                         1.82\n",
      "===================================================================================\n",
      "\n",
      "Warnings:\n",
      "[1] Covariance matrix calculated using the outer product of gradients (complex-step).\n"
     ]
    }
   ],
   "source": [
    "# Fit ARIMA model on the differenced data using auto_arima for order selection\n",
    "model = auto_arima(df['sales_units_boxcox'].dropna(), seasonal=False, stepwise=True, trace=True)\n",
    "print(model.summary())\n",
    "\n"
   ]
  },
  {
   "cell_type": "code",
   "execution_count": 19,
   "id": "d789a469-987c-47bc-b128-f74f8251587d",
   "metadata": {},
   "outputs": [],
   "source": [
    "# Forecast future values\n",
    "forecast_steps = 365  # Forecast for one year\n",
    "forecast = model.predict(n_periods=forecast_steps)\n",
    "\n",
    "\n"
   ]
  },
  {
   "cell_type": "code",
   "execution_count": 20,
   "id": "1cc0595c-7db2-4e11-ac46-969cdad07737",
   "metadata": {},
   "outputs": [],
   "source": [
    "# Convert differenced forecast back to original scale\n",
    "boxcox_forecasts_diff = pd.Series(forecast, index=pd.date_range(start=df.index[-1] + pd.Timedelta(days=1), periods=forecast_steps))\n",
    "boxcox_forecasts = df['sales_units_boxcox'].iloc[-1] + boxcox_forecasts_diff.cumsum()\n",
    "forecasts = inv_boxcox(boxcox_forecasts, lam)  # Inverse Box-Cox transformation\n",
    "\n"
   ]
  },
  {
   "cell_type": "code",
   "execution_count": 21,
   "id": "53e6ba61-5f61-4eb7-85e9-36d9d9fa7314",
   "metadata": {},
   "outputs": [],
   "source": [
    "# Create a date range for the forecast period\n",
    "forecast_dates = pd.date_range(start=df.index[-1] + pd.Timedelta(days=1), periods=forecast_steps)\n",
    "\n"
   ]
  },
  {
   "cell_type": "code",
   "execution_count": 22,
   "id": "8ae70705-a1e4-4378-b41e-c603f2980762",
   "metadata": {},
   "outputs": [
    {
     "data": {
      "image/png": "[encoded data removed]",
      "text/plain": [
       "<Figure size 1200x600 with 1 Axes>"
      ]
     },
     "metadata": {},
     "output_type": "display_data"
    }
   ],
   "source": [
    "# Plot the forecasts\n",
    "plt.figure(figsize=(12, 6))\n",
    "plt.plot(df.index, df['sales_units'], label='Historical Sales Units', color='blue')\n",
    "plt.plot(forecast_dates, forecasts, label='Forecast', color='red', linestyle='--')\n",
    "plt.title('Sales Units Forecast for the Next Year')\n",
    "plt.xlabel('Date')\n",
    "plt.ylabel('Sales Units')\n",
    "plt.legend()\n",
    "plt.show()"
   ]
  },
  {
   "cell_type": "code",
   "execution_count": null,
   "id": "fd3ff0eb-7ec3-403a-a69e-996f04e7c248",
   "metadata": {},
   "outputs": [],
   "source": []
  }
 ],
 "metadata": {
  "kernelspec": {
   "display_name": "Python 3 (ipykernel)",
   "language": "python",
   "name": "python3"
  },
  "language_info": {
   "codemirror_mode": {
    "name": "ipython",
    "version": 3
   },
   "file_extension": ".py",
   "mimetype": "text/x-python",
   "name": "python",
   "nbconvert_exporter": "python",
   "pygments_lexer": "ipython3",
   "version": "3.12.3"
  }
 },
 "nbformat": 4,
 "nbformat_minor": 5
}
